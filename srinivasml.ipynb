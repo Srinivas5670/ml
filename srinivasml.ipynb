{
 "cells": [
  {
   "cell_type": "code",
   "execution_count": 2,
   "id": "23f74110",
   "metadata": {},
   "outputs": [
    {
     "data": {
      "text/plain": [
       "array(['apple', 'banana'], dtype='<U6')"
      ]
     },
     "execution_count": 2,
     "metadata": {},
     "output_type": "execute_result"
    }
   ],
   "source": [
    "import numpy as np\n",
    "ch_arr2=np.array([\"apple\",\"banana\"])\n",
    "low_arr=np.char.lower(ch_arr2)\n",
    "low_arr"
   ]
  },
  {
   "cell_type": "code",
   "execution_count": 3,
   "id": "1f81d28e",
   "metadata": {},
   "outputs": [
    {
     "data": {
      "text/plain": [
       "array(['apple', 'banana'], dtype='<U6')"
      ]
     },
     "execution_count": 3,
     "metadata": {},
     "output_type": "execute_result"
    }
   ],
   "source": [
    "cleaned_arr=np.char.replace(low_arr,\"-\",\" \")\n",
    "cleaned_arr"
   ]
  },
  {
   "cell_type": "code",
   "execution_count": 4,
   "id": "ee1da783",
   "metadata": {},
   "outputs": [
    {
     "data": {
      "text/plain": [
       "array([1, 2, 3, 4])"
      ]
     },
     "execution_count": 4,
     "metadata": {},
     "output_type": "execute_result"
    }
   ],
   "source": [
    "array1=np.array([1,2,3,4])\n",
    "array1"
   ]
  },
  {
   "cell_type": "code",
   "execution_count": 5,
   "id": "10068a25",
   "metadata": {},
   "outputs": [
    {
     "data": {
      "text/plain": [
       "dtype('int32')"
      ]
     },
     "execution_count": 5,
     "metadata": {},
     "output_type": "execute_result"
    }
   ],
   "source": [
    "array1.dtype"
   ]
  },
  {
   "cell_type": "code",
   "execution_count": 6,
   "id": "c86594e8",
   "metadata": {},
   "outputs": [
    {
     "data": {
      "text/plain": [
       "dtype('<U6')"
      ]
     },
     "execution_count": 6,
     "metadata": {},
     "output_type": "execute_result"
    }
   ],
   "source": [
    "ch_arr2.dtype"
   ]
  },
  {
   "cell_type": "code",
   "execution_count": 11,
   "id": "d3aa3276",
   "metadata": {},
   "outputs": [],
   "source": [
    "array8=np.array([1,2,3,4,5],dtype='i')"
   ]
  },
  {
   "cell_type": "code",
   "execution_count": 12,
   "id": "494394cd",
   "metadata": {
    "scrolled": true
   },
   "outputs": [
    {
     "data": {
      "text/plain": [
       "dtype('int32')"
      ]
     },
     "execution_count": 12,
     "metadata": {},
     "output_type": "execute_result"
    }
   ],
   "source": [
    "array8.dtype"
   ]
  },
  {
   "cell_type": "raw",
   "id": "74e156de",
   "metadata": {},
   "source": [
    "array2connv=array8.astype('f')"
   ]
  },
  {
   "cell_type": "code",
   "execution_count": 18,
   "id": "6636a1f1",
   "metadata": {},
   "outputs": [],
   "source": [
    "array2connv=array8.astype('f')"
   ]
  },
  {
   "cell_type": "code",
   "execution_count": 21,
   "id": "a094e827",
   "metadata": {},
   "outputs": [
    {
     "data": {
      "text/plain": [
       "array([1., 2., 3., 4., 5.], dtype=float32)"
      ]
     },
     "execution_count": 21,
     "metadata": {},
     "output_type": "execute_result"
    }
   ],
   "source": [
    "array2connv"
   ]
  },
  {
   "cell_type": "code",
   "execution_count": 20,
   "id": "15a1120d",
   "metadata": {},
   "outputs": [
    {
     "ename": "NameError",
     "evalue": "name 'char_arr' is not defined",
     "output_type": "error",
     "traceback": [
      "\u001b[1;31m---------------------------------------------------------------------------\u001b[0m",
      "\u001b[1;31mNameError\u001b[0m                                 Traceback (most recent call last)",
      "Cell \u001b[1;32mIn[20], line 1\u001b[0m\n\u001b[1;32m----> 1\u001b[0m char_conv\u001b[38;5;241m=\u001b[39mchar_arr\u001b[38;5;241m.\u001b[39mastype(\u001b[38;5;124m'\u001b[39m\u001b[38;5;124mi\u001b[39m\u001b[38;5;124m'\u001b[39m)\n\u001b[0;32m      2\u001b[0m char_conv\n",
      "\u001b[1;31mNameError\u001b[0m: name 'char_arr' is not defined"
     ]
    }
   ],
   "source": [
    "char_conv=char_arr.astype('i')\n",
    "char_conv"
   ]
  },
  {
   "cell_type": "code",
   "execution_count": 22,
   "id": "d994edc7",
   "metadata": {},
   "outputs": [
    {
     "data": {
      "text/plain": [
       "array([1., 1., 1.])"
      ]
     },
     "execution_count": 22,
     "metadata": {},
     "output_type": "execute_result"
    }
   ],
   "source": [
    "ars1=np.ones(3)\n",
    "ars1"
   ]
  },
  {
   "cell_type": "code",
   "execution_count": 24,
   "id": "0a88085b",
   "metadata": {},
   "outputs": [
    {
     "data": {
      "text/plain": [
       "array([0., 0., 0., 0.])"
      ]
     },
     "execution_count": 24,
     "metadata": {},
     "output_type": "execute_result"
    }
   ],
   "source": [
    "ars2=np.zeros(4)\n",
    "ars2"
   ]
  },
  {
   "cell_type": "code",
   "execution_count": 25,
   "id": "b67d0f5e",
   "metadata": {},
   "outputs": [
    {
     "data": {
      "text/plain": [
       "array([0.41852127, 0.28457196, 0.61960835, 0.43444104])"
      ]
     },
     "execution_count": 25,
     "metadata": {},
     "output_type": "execute_result"
    }
   ],
   "source": [
    "ars3=np.random.random(4)\n",
    "ars3"
   ]
  },
  {
   "cell_type": "code",
   "execution_count": 26,
   "id": "dd693048",
   "metadata": {},
   "outputs": [
    {
     "data": {
      "text/plain": [
       "array([[1, 1],\n",
       "       [1, 1]])"
      ]
     },
     "execution_count": 26,
     "metadata": {},
     "output_type": "execute_result"
    }
   ],
   "source": [
    "numone=np.ones((2,2),dtype=int)\n",
    "numone"
   ]
  },
  {
   "cell_type": "code",
   "execution_count": 27,
   "id": "e980beee",
   "metadata": {},
   "outputs": [
    {
     "data": {
      "text/plain": [
       "array([[1., 1.],\n",
       "       [1., 1.],\n",
       "       [1., 1.]])"
      ]
     },
     "execution_count": 27,
     "metadata": {},
     "output_type": "execute_result"
    }
   ],
   "source": [
    "numsone=np.ones((3,2))\n",
    "numsone"
   ]
  },
  {
   "cell_type": "code",
   "execution_count": 28,
   "id": "4a59d5a9",
   "metadata": {},
   "outputs": [
    {
     "data": {
      "text/plain": [
       "array([[0., 0.],\n",
       "       [0., 0.],\n",
       "       [0., 0.]])"
      ]
     },
     "execution_count": 28,
     "metadata": {},
     "output_type": "execute_result"
    }
   ],
   "source": [
    "numsone1=np.zeros((3,2))\n",
    "numsone1"
   ]
  },
  {
   "cell_type": "code",
   "execution_count": 31,
   "id": "34ee064b",
   "metadata": {},
   "outputs": [
    {
     "data": {
      "text/plain": [
       "array([[[1., 1.],\n",
       "        [1., 1.],\n",
       "        [1., 1.]],\n",
       "\n",
       "       [[1., 1.],\n",
       "        [1., 1.],\n",
       "        [1., 1.]],\n",
       "\n",
       "       [[1., 1.],\n",
       "        [1., 1.],\n",
       "        [1., 1.]],\n",
       "\n",
       "       [[1., 1.],\n",
       "        [1., 1.],\n",
       "        [1., 1.]]])"
      ]
     },
     "execution_count": 31,
     "metadata": {},
     "output_type": "execute_result"
    }
   ],
   "source": [
    "dimones=np.ones((4,3,2))\n",
    "dimones"
   ]
  },
  {
   "cell_type": "raw",
   "id": "76661801",
   "metadata": {},
   "source": []
  },
  {
   "cell_type": "code",
   "execution_count": 30,
   "id": "1f865b00",
   "metadata": {},
   "outputs": [
    {
     "data": {
      "text/plain": [
       "3"
      ]
     },
     "execution_count": 30,
     "metadata": {},
     "output_type": "execute_result"
    }
   ],
   "source": [
    "dimones.ndim"
   ]
  },
  {
   "cell_type": "code",
   "execution_count": 32,
   "id": "0f243692",
   "metadata": {},
   "outputs": [],
   "source": [
    "ar1=np.array([[1,2,3],[4,5,6]])\n",
    "ar2=np.array([[1,2,3],[8,10,9]])"
   ]
  },
  {
   "cell_type": "code",
   "execution_count": 33,
   "id": "ca329c0b",
   "metadata": {},
   "outputs": [
    {
     "name": "stdout",
     "output_type": "stream",
     "text": [
      "add:\n",
      " [[ 2  4  6]\n",
      " [12 15 15]]\n"
     ]
    }
   ],
   "source": [
    "add=ar1+ar2\n",
    "print(\"add:\\n\",add)"
   ]
  },
  {
   "cell_type": "code",
   "execution_count": 35,
   "id": "0ec79e94",
   "metadata": {},
   "outputs": [
    {
     "name": "stdout",
     "output_type": "stream",
     "text": [
      "sub:\n",
      " [[ 0  0  0]\n",
      " [-4 -5 -3]]\n"
     ]
    }
   ],
   "source": [
    "sub=ar1-ar2\n",
    "print(\"sub:\\n\",sub)"
   ]
  },
  {
   "cell_type": "code",
   "execution_count": 36,
   "id": "7d245fc8",
   "metadata": {},
   "outputs": [
    {
     "name": "stdout",
     "output_type": "stream",
     "text": [
      "div:\n",
      " [[1.         1.         1.        ]\n",
      " [0.5        0.5        0.66666667]]\n"
     ]
    }
   ],
   "source": [
    "div=ar1/ar2\n",
    "print(\"div:\\n\",div)"
   ]
  },
  {
   "cell_type": "code",
   "execution_count": 37,
   "id": "8cb84fc8",
   "metadata": {},
   "outputs": [
    {
     "name": "stdout",
     "output_type": "stream",
     "text": [
      "power:\n",
      " [[       1        4       27]\n",
      " [   65536  9765625 10077696]]\n"
     ]
    }
   ],
   "source": [
    "power = np.power(ar1,ar2)\n",
    "print(\"power:\\n\",power)"
   ]
  },
  {
   "cell_type": "code",
   "execution_count": 38,
   "id": "1ebf7050",
   "metadata": {},
   "outputs": [
    {
     "data": {
      "text/plain": [
       "array([[11, 24, 36],\n",
       "       [14, 27, 39]])"
      ]
     },
     "execution_count": 38,
     "metadata": {},
     "output_type": "execute_result"
    }
   ],
   "source": [
    "array2d=np.array([[1,2,3],[4,5,6]])\n",
    "array1d=np.array([10,22,33])\n",
    "sum=array2d+array1d\n",
    "sum"
   ]
  },
  {
   "cell_type": "code",
   "execution_count": 39,
   "id": "0b894947",
   "metadata": {},
   "outputs": [
    {
     "data": {
      "text/plain": [
       "array([0, 2, 4, 6, 8])"
      ]
     },
     "execution_count": 39,
     "metadata": {},
     "output_type": "execute_result"
    }
   ],
   "source": [
    "range_arr=np.arange(0,10,2)\n",
    "range_arr"
   ]
  },
  {
   "cell_type": "code",
   "execution_count": 41,
   "id": "18f2814e",
   "metadata": {},
   "outputs": [
    {
     "data": {
      "text/plain": [
       "array([[5, 2, 5],\n",
       "       [3, 5, 1]])"
      ]
     },
     "execution_count": 41,
     "metadata": {},
     "output_type": "execute_result"
    }
   ],
   "source": [
    "w=np.random.randint(low=1,high=6,size=(2,3))\n",
    "w"
   ]
  },
  {
   "cell_type": "code",
   "execution_count": null,
   "id": "610c3d75",
   "metadata": {},
   "outputs": [],
   "source": [
    "import matplotlib.pyplot as plt\n",
    "from scipy import stats"
   ]
  },
  {
   "cell_type": "code",
   "execution_count": null,
   "id": "cd92f3f0",
   "metadata": {},
   "outputs": [],
   "source": [
    "exp = [1,2,3,4,5,6,7,8,9,10]\n",
    "sal = [40,50,60,70,80,90,100,110,120,130]"
   ]
  },
  {
   "cell_type": "code",
   "execution_count": null,
   "id": "1c06892b",
   "metadata": {},
   "outputs": [],
   "source": [
    "slope,intercept,r,p,std_err=stats.linregress(experience, salary)"
   ]
  },
  {
   "cell_type": "code",
   "execution_count": null,
   "id": "5e1943fc",
   "metadata": {},
   "outputs": [],
   "source": [
    "slope"
   ]
  },
  {
   "cell_type": "code",
   "execution_count": null,
   "id": "9ab09877",
   "metadata": {},
   "outputs": [],
   "source": []
  }
 ],
 "metadata": {
  "kernelspec": {
   "display_name": "Python 3 (ipykernel)",
   "language": "python",
   "name": "python3"
  },
  "language_info": {
   "codemirror_mode": {
    "name": "ipython",
    "version": 3
   },
   "file_extension": ".py",
   "mimetype": "text/x-python",
   "name": "python",
   "nbconvert_exporter": "python",
   "pygments_lexer": "ipython3",
   "version": "3.11.5"
  }
 },
 "nbformat": 4,
 "nbformat_minor": 5
}
